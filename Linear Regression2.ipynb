{
  "nbformat": 4,
  "nbformat_minor": 0,
  "metadata": {
    "colab": {
      "name": "EX-1_Machine_learning.ipynb",
      "provenance": []
    },
    "kernelspec": {
      "name": "python3",
      "display_name": "Python 3"
    },
    "language_info": {
      "name": "python"
    }
  },
  "cells": [
    {
      "cell_type": "markdown",
      "source": [
        "# Linear Regression with one variable"
      ],
      "metadata": {
        "id": "g3gsznm-ARs1"
      }
    },
    {
      "cell_type": "code",
      "source": [
        "from google.colab import drive\n",
        "\n",
        "drive.mount(\"/content/Mydrive\")"
      ],
      "metadata": {
        "colab": {
          "base_uri": "https://localhost:8080/"
        },
        "id": "ceWHQ2iYAitP",
        "outputId": "75cd617b-6796-4ab4-b560-953919f8ca53"
      },
      "execution_count": null,
      "outputs": [
        {
          "output_type": "stream",
          "name": "stdout",
          "text": [
            "Mounted at /content/Mydrive\n"
          ]
        }
      ]
    },
    {
      "cell_type": "markdown",
      "source": [
        "## Libraries "
      ],
      "metadata": {
        "id": "bycVJjK-AYMr"
      }
    },
    {
      "cell_type": "code",
      "execution_count": null,
      "metadata": {
        "id": "zccbjnTc-5QN"
      },
      "outputs": [],
      "source": [
        "import os\n",
        "import numpy as np\n",
        "import matplotlib.pyplot as plt\n"
      ]
    },
    {
      "cell_type": "markdown",
      "source": [
        "## Load Data"
      ],
      "metadata": {
        "id": "3hGOnsF4AOEF"
      }
    },
    {
      "cell_type": "code",
      "source": [
        "data = np.loadtxt(\"/content/Mydrive/MyDrive/Machine Learning Data/ex1data1.txt\",delimiter = \",\")\n",
        "\n",
        "X = data[:,0]\n",
        "y = data[:,1]\n",
        "\n",
        "m = y.size"
      ],
      "metadata": {
        "id": "x98RZ8GLAGIw"
      },
      "execution_count": null,
      "outputs": []
    },
    {
      "cell_type": "code",
      "source": [
        "print(X,y,m)"
      ],
      "metadata": {
        "colab": {
          "base_uri": "https://localhost:8080/"
        },
        "id": "rMdPZzAqBExa",
        "outputId": "57282d40-514b-498b-ab7e-02268311f685"
      },
      "execution_count": null,
      "outputs": [
        {
          "output_type": "execute_result",
          "data": {
            "text/plain": [
              "(array([ 6.1101,  5.5277,  8.5186,  7.0032,  5.8598,  8.3829,  7.4764,\n",
              "         8.5781,  6.4862,  5.0546,  5.7107, 14.164 ,  5.734 ,  8.4084,\n",
              "         5.6407,  5.3794,  6.3654,  5.1301,  6.4296,  7.0708,  6.1891,\n",
              "        20.27  ,  5.4901,  6.3261,  5.5649, 18.945 , 12.828 , 10.957 ,\n",
              "        13.176 , 22.203 ,  5.2524,  6.5894,  9.2482,  5.8918,  8.2111,\n",
              "         7.9334,  8.0959,  5.6063, 12.836 ,  6.3534,  5.4069,  6.8825,\n",
              "        11.708 ,  5.7737,  7.8247,  7.0931,  5.0702,  5.8014, 11.7   ,\n",
              "         5.5416,  7.5402,  5.3077,  7.4239,  7.6031,  6.3328,  6.3589,\n",
              "         6.2742,  5.6397,  9.3102,  9.4536,  8.8254,  5.1793, 21.279 ,\n",
              "        14.908 , 18.959 ,  7.2182,  8.2951, 10.236 ,  5.4994, 20.341 ,\n",
              "        10.136 ,  7.3345,  6.0062,  7.2259,  5.0269,  6.5479,  7.5386,\n",
              "         5.0365, 10.274 ,  5.1077,  5.7292,  5.1884,  6.3557,  9.7687,\n",
              "         6.5159,  8.5172,  9.1802,  6.002 ,  5.5204,  5.0594,  5.7077,\n",
              "         7.6366,  5.8707,  5.3054,  8.2934, 13.394 ,  5.4369]),\n",
              " array([17.592  ,  9.1302 , 13.662  , 11.854  ,  6.8233 , 11.886  ,\n",
              "         4.3483 , 12.     ,  6.5987 ,  3.8166 ,  3.2522 , 15.505  ,\n",
              "         3.1551 ,  7.2258 ,  0.71618,  3.5129 ,  5.3048 ,  0.56077,\n",
              "         3.6518 ,  5.3893 ,  3.1386 , 21.767  ,  4.263  ,  5.1875 ,\n",
              "         3.0825 , 22.638  , 13.501  ,  7.0467 , 14.692  , 24.147  ,\n",
              "        -1.22   ,  5.9966 , 12.134  ,  1.8495 ,  6.5426 ,  4.5623 ,\n",
              "         4.1164 ,  3.3928 , 10.117  ,  5.4974 ,  0.55657,  3.9115 ,\n",
              "         5.3854 ,  2.4406 ,  6.7318 ,  1.0463 ,  5.1337 ,  1.844  ,\n",
              "         8.0043 ,  1.0179 ,  6.7504 ,  1.8396 ,  4.2885 ,  4.9981 ,\n",
              "         1.4233 , -1.4211 ,  2.4756 ,  4.6042 ,  3.9624 ,  5.4141 ,\n",
              "         5.1694 , -0.74279, 17.929  , 12.054  , 17.054  ,  4.8852 ,\n",
              "         5.7442 ,  7.7754 ,  1.0173 , 20.992  ,  6.6799 ,  4.0259 ,\n",
              "         1.2784 ,  3.3411 , -2.6807 ,  0.29678,  3.8845 ,  5.7014 ,\n",
              "         6.7526 ,  2.0576 ,  0.47953,  0.20421,  0.67861,  7.5435 ,\n",
              "         5.3436 ,  4.2415 ,  6.7981 ,  0.92695,  0.152  ,  2.8214 ,\n",
              "         1.8451 ,  4.2959 ,  7.2029 ,  1.9869 ,  0.14454,  9.0551 ,\n",
              "         0.61705]),\n",
              " 97)"
            ]
          },
          "metadata": {},
          "execution_count": 154
        }
      ]
    },
    {
      "cell_type": "markdown",
      "source": [
        "## Plot Data"
      ],
      "metadata": {
        "id": "QiEQiBw7XUee"
      }
    },
    {
      "cell_type": "code",
      "source": [
        "def plot_data(X,y):\n",
        "  fig = plt.figure()\n",
        "  plt.plot(X, y, 'ro', ms=10, mec='k')\n",
        "  plt.ylabel('Profit in $10,000')\n",
        "  plt.xlabel('Population of City in 10,000s')\n",
        "  plt.show()\n",
        "plot_data(X,y)"
      ],
      "metadata": {
        "colab": {
          "base_uri": "https://localhost:8080/",
          "height": 280
        },
        "id": "0zT98IRQBGK8",
        "outputId": "a17978f5-fee0-4c00-b228-15ebf0c26dfe"
      },
      "execution_count": null,
      "outputs": [
        {
          "output_type": "display_data",
          "data": {
            "text/plain": [
              "<Figure size 432x288 with 1 Axes>"
            ],
            "image/png": "[encoded data removed]"
          },
          "metadata": {
            "needs_background": "light"
          }
        }
      ]
    },
    {
      "cell_type": "code",
      "source": [
        "X = np.stack([np.ones(m),X],axis = 1)\n",
        "# print(X)"
      ],
      "metadata": {
        "id": "Edpi4b-gBegM"
      },
      "execution_count": null,
      "outputs": []
    },
    {
      "cell_type": "markdown",
      "source": [
        "## Compute Cost"
      ],
      "metadata": {
        "id": "m1z1fbaRXXBn"
      }
    },
    {
      "cell_type": "code",
      "source": [
        "def Compute_Cost(X,y,theta):\n",
        "  m = y.size\n",
        "  J = 0\n",
        "\n",
        "  J = (1/(2*m)) * np.sum((np.dot(X,theta) - y)**2)\n",
        "\n",
        "  return J"
      ],
      "metadata": {
        "id": "kXISwzF4CMdC"
      },
      "execution_count": null,
      "outputs": []
    },
    {
      "cell_type": "code",
      "source": [
        "J = Compute_Cost(X,y,theta = np.array([0.0,0.0]))\n",
        "print('With theta = [0, 0] \\nCost computed = %.2f' % J)\n",
        "print('Expected cost value (approximately) 32.07\\n')"
      ],
      "metadata": {
        "colab": {
          "base_uri": "https://localhost:8080/"
        },
        "id": "QOBE-PX6D3nl",
        "outputId": "28b38273-073c-4117-d87d-86b17a90d05b"
      },
      "execution_count": null,
      "outputs": [
        {
          "output_type": "stream",
          "name": "stdout",
          "text": [
            "With theta = [0, 0] \n",
            "Cost computed = 32.07\n",
            "Expected cost value (approximately) 32.07\n",
            "\n"
          ]
        }
      ]
    },
    {
      "cell_type": "code",
      "source": [
        "J = Compute_Cost(X,y,theta = np.array([-1,2]))\n",
        "print('With theta = [0, 0] \\nCost computed = %.2f' % J)\n",
        "print('Expected cost value (approximately) 54.24\\n')"
      ],
      "metadata": {
        "colab": {
          "base_uri": "https://localhost:8080/"
        },
        "id": "-Mh0JoNoD_tJ",
        "outputId": "0c4a729e-14a2-4f36-f34d-2815a940fbf9"
      },
      "execution_count": null,
      "outputs": [
        {
          "output_type": "stream",
          "name": "stdout",
          "text": [
            "With theta = [0, 0] \n",
            "Cost computed = 54.24\n",
            "Expected cost value (approximately) 54.24\n",
            "\n"
          ]
        }
      ]
    },
    {
      "cell_type": "markdown",
      "source": [
        "## Gradient Descent"
      ],
      "metadata": {
        "id": "siQHRUt3XZei"
      }
    },
    {
      "cell_type": "code",
      "source": [
        "def gradient_Descent(X,y,theta,num_iteration,alpha):\n",
        "  m = y.shape[0]\n",
        "  theta = theta.copy()\n",
        "  J_history = []\n",
        "\n",
        "  for i in range(int(num_iteration)):\n",
        "    theta = theta - (alpha/m) * (np.dot(X,theta)-y).dot(X)\n",
        "    J_history.append(Compute_Cost(X,y,theta))\n",
        "\n",
        "  return theta,J_history"
      ],
      "metadata": {
        "id": "wRwBHK-tEtdt"
      },
      "execution_count": null,
      "outputs": []
    },
    {
      "cell_type": "code",
      "source": [
        "theta = np.zeros(2)\n",
        "iteration = 1500\n",
        "alpha = 0.01\n",
        "\n",
        "theta , J_history = gradient_Descent(X,y,theta,iteration,alpha)\n",
        "print('Theta found by gradient descent: {:.4f}, {:.4f}'.format(*theta))\n",
        "print('Expected theta values (approximately): [-3.6303, 1.1664]')"
      ],
      "metadata": {
        "colab": {
          "base_uri": "https://localhost:8080/"
        },
        "id": "CWcDxTOCGmzJ",
        "outputId": "f5b32cd5-7b89-46b9-f5e4-4aa4dba2663b"
      },
      "execution_count": null,
      "outputs": [
        {
          "output_type": "stream",
          "name": "stdout",
          "text": [
            "Theta found by gradient descent: -3.6303, 1.1664\n",
            "Expected theta values (approximately): [-3.6303, 1.1664]\n"
          ]
        }
      ]
    },
    {
      "cell_type": "code",
      "source": [
        "plot_data(X[:,1],y)\n",
        "plt.plot(X[:,1],np.dot(X,theta),'-')\n",
        "plt.legend(['Training data', 'Linear regression']);"
      ],
      "metadata": {
        "colab": {
          "base_uri": "https://localhost:8080/",
          "height": 280
        },
        "id": "-DlJCZ55G9Ot",
        "outputId": "0fbf98bc-25a5-44db-e8f8-b958b8f20b77"
      },
      "execution_count": null,
      "outputs": [
        {
          "output_type": "display_data",
          "data": {
            "text/plain": [
              "<Figure size 432x288 with 1 Axes>"
            ],
            "image/png": "[encoded data removed]"
          },
          "metadata": {
            "needs_background": "light"
          }
        }
      ]
    },
    {
      "cell_type": "markdown",
      "source": [
        "## Linear Regression for multivarable"
      ],
      "metadata": {
        "id": "c5jTghzALM6w"
      }
    },
    {
      "cell_type": "code",
      "source": [
        "Data = np.loadtxt(\"/content/Mydrive/MyDrive/Machine Learning Data/ex1data2.txt\",delimiter = ',')\n",
        "\n",
        "X = Data[:,:2]\n",
        "y = Data[:,2]\n",
        "\n",
        "print(X,y,m)"
      ],
      "metadata": {
        "colab": {
          "base_uri": "https://localhost:8080/"
        },
        "id": "w4nnjwg2NlDV",
        "outputId": "1da479ab-c8d6-4a39-8ac4-4e9e7b8c88be"
      },
      "execution_count": null,
      "outputs": [
        {
          "output_type": "stream",
          "name": "stdout",
          "text": [
            " X[:,0]\t X[:, 1]         y\n",
            "--------------------------\n",
            "    2104       3    399900\n",
            "    1600       3    329900\n",
            "    2400       3    369000\n",
            "    1416       2    232000\n",
            "    3000       4    539900\n",
            "    1985       4    299900\n",
            "    1534       3    314900\n",
            "    1427       3    198999\n",
            "    1380       3    212000\n",
            "    1494       3    242500\n"
          ]
        }
      ]
    },
    {
      "cell_type": "markdown",
      "source": [
        "## Feature Normalization"
      ],
      "metadata": {
        "id": "r0LGl9Q9XdNW"
      }
    },
    {
      "cell_type": "code",
      "source": [
        "def featureNormlization(X):\n",
        "\n",
        "  X_norm = X.copy()\n",
        "  mu = np.zeros(X.shape[0])\n",
        "  sigma = np.zeros(X.shape[0])\n",
        "\n",
        "  mu = np.mean(X,axis = 0)\n",
        "  sigma = np.std(X,axis = 0)\n",
        "  X_norm = (X-mu)/sigma\n",
        "\n",
        "  return X_norm,mu,sigma"
      ],
      "metadata": {
        "id": "NZJSeR0vN56C"
      },
      "execution_count": null,
      "outputs": []
    },
    {
      "cell_type": "code",
      "source": [
        "X_norm, mu, sigma = featureNormlization(X)\n",
        "\n",
        "print('Computed mean:', mu)\n",
        "print('Computed standard deviation:', sigma)"
      ],
      "metadata": {
        "colab": {
          "base_uri": "https://localhost:8080/"
        },
        "id": "xwThBEcDPYy0",
        "outputId": "7e2ffddf-f0b4-4375-fab8-0ef365eccbbc"
      },
      "execution_count": null,
      "outputs": [
        {
          "output_type": "stream",
          "name": "stdout",
          "text": [
            "Computed mean: [2000.68085106    3.17021277]\n",
            "Computed standard deviation: [7.86202619e+02 7.52842809e-01]\n"
          ]
        }
      ]
    },
    {
      "cell_type": "code",
      "source": [
        "X = np.concatenate([np.ones((m,1)) ,X_norm],axis = 1)"
      ],
      "metadata": {
        "id": "Oz7GcBUuPctL"
      },
      "execution_count": null,
      "outputs": []
    },
    {
      "cell_type": "markdown",
      "source": [
        "## Compute Multiple variable Cost"
      ],
      "metadata": {
        "id": "BrgK32fBXgaZ"
      }
    },
    {
      "cell_type": "code",
      "source": [
        "def Compute_Cost_Multi(X,y,theta):\n",
        "  theta = theta.copy()\n",
        "  m = y.shape[0]\n",
        "  J = 0 \n",
        "  J = (1/(2*m)) * np.sum((np.dot(X,theta)-y)**2)\n",
        "  return J"
      ],
      "metadata": {
        "id": "5_w_WHrJW3oE"
      },
      "execution_count": null,
      "outputs": []
    },
    {
      "cell_type": "markdown",
      "source": [
        "## Compute Multiple variable Gradient Descent"
      ],
      "metadata": {
        "id": "G5DbFWVMXkb9"
      }
    },
    {
      "cell_type": "code",
      "source": [
        "def Compute_gradient_multi(X,y,theta,alpha,num_iters):\n",
        "  m = y.shape[0]\n",
        "  \n",
        "  theta = theta.copy()\n",
        "  J_history = []\n",
        "\n",
        "  for i in range(int(num_iters)):\n",
        "\n",
        "    theta = theta - (alpha/m) * (np.dot(X,theta)-y).dot(X)\n",
        "    J_history.append(Compute_Cost_Multi(X,y,theta))\n",
        "  \n",
        "  return theta, J_history\n"
      ],
      "metadata": {
        "id": "b0KjDJxLXo5e"
      },
      "execution_count": null,
      "outputs": []
    },
    {
      "cell_type": "code",
      "source": [
        "alpha = 0.1\n",
        "num_iters = int(400)\n",
        "\n",
        "# init theta and run gradient descent\n",
        "theta = np.zeros(3)\n",
        "theta, J_history = Compute_gradient_multi(X, y, theta, alpha, num_iters)\n",
        "\n",
        "# print(J_history)\n",
        "# Plot the convergence graph\n",
        "plt.plot(np.arange(len(J_history)), J_history, lw=2)\n",
        "plt.xlabel('Number of iterations')\n",
        "plt.ylabel('Cost J')\n",
        "\n",
        "# Display the gradient descent's result\n",
        "print('theta computed from gradient descent: {:s}'.format(str(theta)))\n",
        "\n",
        "# Estimate the price of a 1650 sq-ft, 3 br house\n",
        "# ======================= YOUR CODE HERE ===========================\n",
        "# Recall that the first column of X is all-ones. \n",
        "# Thus, it does not need to be normalized.\n",
        "\n",
        "X_array = [1, 1650, 3]\n",
        "X_array[1:3] = (X_array[1:3] - mu) / sigma\n",
        "price = np.dot(X_array, theta)   # You should change this\n",
        "\n",
        "# ===================================================================\n",
        "\n",
        "print('Predicted price of a 1650 sq-ft, 3 br house (using gradient descent): ${:.0f}'.format(price))\n"
      ],
      "metadata": {
        "colab": {
          "base_uri": "https://localhost:8080/",
          "height": 325
        },
        "id": "pJVMTaD6P3_H",
        "outputId": "ed4c3992-2d9f-450c-8de3-0075efef7c3b"
      },
      "execution_count": null,
      "outputs": [
        {
          "output_type": "stream",
          "name": "stdout",
          "text": [
            "theta computed from gradient descent: [340412.65957447 109447.79558639  -6578.3539709 ]\n",
            "Predicted price of a 1650 sq-ft, 3 br house (using gradient descent): $293081\n"
          ]
        },
        {
          "output_type": "display_data",
          "data": {
            "text/plain": [
              "<Figure size 432x288 with 1 Axes>"
            ],
            "image/png": "[encoded data removed]"
          },
          "metadata": {
            "needs_background": "light"
          }
        }
      ]
    },
    {
      "cell_type": "code",
      "source": [
        ""
      ],
      "metadata": {
        "id": "hnEEuJAsZPnj"
      },
      "execution_count": null,
      "outputs": []
    }
  ]
}
