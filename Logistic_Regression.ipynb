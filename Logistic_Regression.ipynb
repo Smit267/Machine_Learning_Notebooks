{
  "nbformat": 4,
  "nbformat_minor": 0,
  "metadata": {
    "colab": {
      "name": "Logistic_Regression.ipynb",
      "provenance": []
    },
    "kernelspec": {
      "name": "python3",
      "display_name": "Python 3"
    },
    "language_info": {
      "name": "python"
    }
  },
  "cells": [
    {
      "cell_type": "markdown",
      "source": [
        "# Logistic Regression"
      ],
      "metadata": {
        "id": "CxKTZ47y0uyQ"
      }
    },
    {
      "cell_type": "code",
      "source": [
        "def mapFeature(X1,X2):\n",
        "    degree = 2;                     \n",
        "    out = np.ones((X1.shape[0],1))\n",
        "\n",
        "    for i in np.arange(1,degree+1): \n",
        "        for j in range(i+1):\n",
        "            temp = X1**(i-j)*(X2**j)   \n",
        "            out = np.hstack((out, temp.reshape(-1,1)))\n",
        "    return out"
      ],
      "metadata": {
        "id": "teqKTU7aC8_4"
      },
      "execution_count": null,
      "outputs": []
    },
    {
      "cell_type": "code",
      "execution_count": null,
      "metadata": {
        "id": "LIa__gVTHCuA"
      },
      "outputs": [],
      "source": [
        "from google.colab import drive\n",
        "drive.mount(\"/content/MyDrive\")"
      ]
    },
    {
      "cell_type": "code",
      "source": [
        "import numpy as np\n",
        "import matplotlib.pyplot as plt\n",
        "import pandas as pd\n",
        "from scipy import optimize"
      ],
      "metadata": {
        "id": "5lyJL6MSN4Sq"
      },
      "execution_count": null,
      "outputs": []
    },
    {
      "cell_type": "markdown",
      "source": [
        "## Load Data"
      ],
      "metadata": {
        "id": "ABJqcA410qre"
      }
    },
    {
      "cell_type": "code",
      "source": [
        "data = np.loadtxt(\"/content/MyDrive/MyDrive/Machine Learning Data/EX_2/ex2data1.txt\",delimiter = \",\")\n",
        "\n",
        "X = data[:,0:2]\n",
        "y = data[:,2]\n",
        "m = X.shape[0]\n",
        "\n",
        "# print(X,y,m)"
      ],
      "metadata": {
        "id": "HzH-ekVQOFqw"
      },
      "execution_count": null,
      "outputs": []
    },
    {
      "cell_type": "markdown",
      "source": [
        "## Plot Data"
      ],
      "metadata": {
        "id": "dAeS2cr20zcP"
      }
    },
    {
      "cell_type": "code",
      "source": [
        "def plot_data(X,y):\n",
        "  pos = y == 1\n",
        "  neg = y == 0\n",
        "  \n",
        "  plt.plot(X[pos, 0], X[pos, 1], 'k*', lw=2, ms=10)\n",
        "  plt.plot(X[neg, 0], X[neg, 1], 'ko', mfc='y', ms=8, mec='k', mew=1)\n",
        "\n"
      ],
      "metadata": {
        "id": "F7QKGWFSOV0A"
      },
      "execution_count": null,
      "outputs": []
    },
    {
      "cell_type": "code",
      "source": [
        "plot_data(X, y)\n",
        "\n",
        "plt.xlabel('Exam 1 score')\n",
        "plt.ylabel('Exam 2 score')\n",
        "plt.legend(['Admitted', 'Not admitted'])\n"
      ],
      "metadata": {
        "id": "ngu6-q_-Pl2j"
      },
      "execution_count": null,
      "outputs": []
    },
    {
      "cell_type": "markdown",
      "source": [
        "## Define Sigmoid Function"
      ],
      "metadata": {
        "id": "EQCDWcVq01dO"
      }
    },
    {
      "cell_type": "code",
      "source": [
        "def sigmoid(z):\n",
        "  z = np.array(z)\n",
        "  g = np.zeros(z.shape)\n",
        "\n",
        "  g = 1/(1 + np.exp(-z))\n",
        "\n",
        "  return g"
      ],
      "metadata": {
        "id": "Z5Uen_PJQtHk"
      },
      "execution_count": null,
      "outputs": []
    },
    {
      "cell_type": "code",
      "source": [
        "z = 0\n",
        "g = sigmoid(z)\n",
        "\n",
        "print('g(', z, ') = ', g)"
      ],
      "metadata": {
        "id": "z0ssw5HwRN9m"
      },
      "execution_count": null,
      "outputs": []
    },
    {
      "cell_type": "code",
      "source": [
        "m , n = X.shape\n",
        "\n",
        "X = np.concatenate([np.ones((m,1)),X],axis = 1)\n",
        "# print(X)"
      ],
      "metadata": {
        "id": "xLtxs1WsR9Md"
      },
      "execution_count": null,
      "outputs": []
    },
    {
      "cell_type": "markdown",
      "source": [
        "## Cost Function and Gradient Descent"
      ],
      "metadata": {
        "id": "lmAP0Y9906EF"
      }
    },
    {
      "cell_type": "code",
      "source": [
        "def cost_func(theta,X,y):\n",
        "\n",
        "  m = y.size\n",
        "  J = 0\n",
        "  grad = np.zeros(theta.shape)\n",
        "\n",
        "  h = sigmoid(np.dot(X,theta))\n",
        "  \n",
        "  J = -(1/m) * np.sum(np.dot(y,(np.log(h))) + np.dot(1-y,(np.log(1-h))))\n",
        "\n",
        "  grad = (1/m) * (h-y).dot(X)\n",
        "\n",
        "  return J,grad\n"
      ],
      "metadata": {
        "id": "cMUznn8jTOF4"
      },
      "execution_count": null,
      "outputs": []
    },
    {
      "cell_type": "code",
      "source": [
        "initial_theta = np.zeros(n+1)\n",
        "\n",
        "cost, grad = cost_func(initial_theta, X, y)\n",
        "\n",
        "print('Cost at initial theta (zeros): {:.3f}'.format(cost))\n",
        "print('Expected cost (approx): 0.693\\n')\n",
        "\n",
        "print('Gradient at initial theta (zeros):')\n",
        "print('\\t[{:.4f}, {:.4f}, {:.4f}]'.format(*grad))\n",
        "print('Expected gradients (approx):\\n\\t[-0.1000, -12.0092, -11.2628]\\n')\n",
        "\n",
        "# Compute and display cost and gradient with non-zero theta\n",
        "test_theta = np.array([-24, 0.2, 0.2])\n",
        "cost, grad = cost_func(test_theta, X, y)\n",
        "\n",
        "print('Cost at test theta: {:.3f}'.format(cost))\n",
        "print('Expected cost (approx): 0.218\\n')\n",
        "\n",
        "print('Gradient at test theta:')\n",
        "print('\\t[{:.3f}, {:.3f}, {:.3f}]'.format(*grad))\n",
        "print('Expected gradients (approx):\\n\\t[0.043, 2.566, 2.647]')"
      ],
      "metadata": {
        "id": "vWkaXbhPV6QH"
      },
      "execution_count": null,
      "outputs": []
    },
    {
      "cell_type": "code",
      "source": [
        "options= {'maxiter': 400}\n",
        "\n",
        "res = optimize.minimize(cost_func,\n",
        "                        initial_theta,\n",
        "                        (X, y),\n",
        "                        jac=True,\n",
        "                        method='TNC',\n",
        "                        options=options)\n",
        "\n",
        "cost = res.fun\n",
        "\n",
        "theta = res.x\n",
        "\n",
        "print('Cost at theta found by optimize.minimize: {:.3f}'.format(cost))\n",
        "print('Expected cost (approx): 0.203\\n');\n",
        "\n",
        "print('theta:')\n",
        "print('\\t[{:.3f}, {:.3f}, {:.3f}]'.format(*theta))\n",
        "print('Expected theta (approx):\\n\\t[-25.161, 0.206, 0.201]')"
      ],
      "metadata": {
        "id": "5NKCKw0QWurZ",
        "collapsed": true
      },
      "execution_count": null,
      "outputs": []
    },
    {
      "cell_type": "markdown",
      "source": [
        "## Predictions"
      ],
      "metadata": {
        "id": "DpnyUZw-0_XB"
      }
    },
    {
      "cell_type": "code",
      "source": [
        "def predict(theta,X):\n",
        "\n",
        "  m = y.size\n",
        "  \n",
        "  p = np.zeros(m)\n",
        "\n",
        "  p = np.round(sigmoid(np.dot(X,theta)))\n",
        "  \n",
        "  return p\n"
      ],
      "metadata": {
        "id": "kGZ19EyGV8ui"
      },
      "execution_count": null,
      "outputs": []
    },
    {
      "cell_type": "code",
      "source": [
        "prob = sigmoid(np.dot([1, 45, 85], theta))\n",
        "print('For a student with scores 45 and 85,'\n",
        "      'we predict an admission probability of {:.3f}'.format(prob))\n",
        "print('Expected value: 0.775 +/- 0.002\\n')\n",
        "\n",
        "# Compute accuracy on our training set\n",
        "p = predict(theta, X)\n",
        "print('Train Accuracy: {:.2f} %'.format(np.mean(p == y) * 100))\n",
        "print('Expected accuracy (approx): 89.00 %')"
      ],
      "metadata": {
        "id": "rnO-OMocWneQ"
      },
      "execution_count": null,
      "outputs": []
    },
    {
      "cell_type": "markdown",
      "source": [
        "# Logistic Regression with Regularization"
      ],
      "metadata": {
        "id": "yseJiW-2Bkws"
      }
    },
    {
      "cell_type": "code",
      "source": [
        "Data = np.loadtxt(\"/content/MyDrive/MyDrive/Machine Learning Data/EX_2/ex2data2.txt\",delimiter = \",\")\n",
        "\n",
        "X = Data[:, 0:2]\n",
        "y = Data[:, 2]\n",
        "m = y.size\n",
        "\n",
        "# print(X,y,m)"
      ],
      "metadata": {
        "id": "qYay8wpK0e7x"
      },
      "execution_count": null,
      "outputs": []
    },
    {
      "cell_type": "code",
      "source": [
        "plot_data(X,y)\n",
        "\n",
        "plt.xlabel('Microchip Test 1')\n",
        "plt.ylabel('Microchip Test 2')\n",
        "\n",
        "plt.legend(['y = 1', 'y = 0'], loc='upper right')"
      ],
      "metadata": {
        "id": "l35rTS9-1V6S"
      },
      "execution_count": null,
      "outputs": []
    },
    {
      "cell_type": "code",
      "source": [
        "import utils\n",
        "X = mapFeature(X[:, 0], X[:, 1])"
      ],
      "metadata": {
        "id": "2KMRe8z4Byhk"
      },
      "execution_count": null,
      "outputs": []
    },
    {
      "cell_type": "code",
      "source": [
        "def regularization_cost_func(theta,X,y,lambda_):\n",
        "  m = y.size\n",
        "  J = 0\n",
        "  grad = np.zeros(theta.shape)\n",
        "\n",
        "  h = sigmoid(np.dot(X,theta))\n",
        "\n",
        "  d = theta\n",
        "  d[0] = 0\n",
        "\n",
        "  J = (1/m) * np.sum(-np.dot(y,(np.log(h))) - np.dot(1-y,(np.log(1-h)))) + (lambda_/(2*m)) * np.sum(np.square(d))\n",
        "\n",
        "  grad = (1 / m) * (h - y).dot(X) +  (lambda_ / m) * d\n",
        "\n",
        "  return J,grad\n"
      ],
      "metadata": {
        "id": "kYpHUr8s2mUK"
      },
      "execution_count": null,
      "outputs": []
    },
    {
      "cell_type": "code",
      "source": [
        "# Initialize fitting parameters\n",
        "initial_theta = np.zeros(X.shape[1])\n",
        "\n",
        "# Set regularization parameter lambda to 1\n",
        "# DO NOT use `lambda` as a variable name in python\n",
        "# because it is a python keyword\n",
        "lambda_ = 1\n",
        "\n",
        "# Compute and display initial cost and gradient for regularized logistic\n",
        "# regression\n",
        "cost, grad = regularization_cost_func(initial_theta, X, y, lambda_)\n",
        "\n",
        "print('Cost at initial theta (zeros): {:.3f}'.format(cost))\n",
        "print('Expected cost (approx)       : 0.693\\n')\n",
        "\n",
        "print('Gradient at initial theta (zeros) - first five values only:')\n",
        "print('\\t[{:.4f}, {:.4f}, {:.4f}, {:.4f}, {:.4f}]'.format(*grad[:5]))\n",
        "print('Expected gradients (approx) - first five values only:')\n",
        "print('\\t[0.0085, 0.0188, 0.0001, 0.0503, 0.0115]\\n')\n",
        "\n",
        "\n",
        "# Compute and display cost and gradient\n",
        "# with all-ones theta and lambda = 10\n",
        "test_theta = np.ones(X.shape[1])\n",
        "cost, grad = regularization_cost_func(test_theta, X, y, 10)\n",
        "\n",
        "print('------------------------------\\n')\n",
        "print('Cost at test theta    : {:.2f}'.format(cost))\n",
        "print('Expected cost (approx): 3.16\\n')\n",
        "\n",
        "print('Gradient at initial theta (zeros) - first five values only:')\n",
        "print('\\t[{:.4f}, {:.4f}, {:.4f}, {:.4f}, {:.4f}]'.format(*grad[:5]))\n",
        "print('Expected gradients (approx) - first five values only:')\n",
        "print('\\t[0.3460, 0.1614, 0.1948, 0.2269, 0.0922]')"
      ],
      "metadata": {
        "id": "bPYpyMyQ4JFD"
      },
      "execution_count": null,
      "outputs": []
    },
    {
      "cell_type": "code",
      "source": [
        ""
      ],
      "metadata": {
        "id": "ZQMS3RnQE9mi"
      },
      "execution_count": null,
      "outputs": []
    }
  ]
}