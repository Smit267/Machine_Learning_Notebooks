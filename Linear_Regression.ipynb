{
  "nbformat": 4,
  "nbformat_minor": 0,
  "metadata": {
    "colab": {
      "name": "Linear Regression.ipynb",
      "provenance": []
    },
    "kernelspec": {
      "name": "python3",
      "display_name": "Python 3"
    },
    "language_info": {
      "name": "python"
    }
  },
  "cells": [
    {
      "cell_type": "markdown",
      "source": [
        "# Linear Regression with one variable"
      ],
      "metadata": {
        "id": "g3gsznm-ARs1"
      }
    },
    {
      "cell_type": "code",
      "source": [
        "from google.colab import drive\n",
        "\n",
        "drive.mount(\"/content/Mydrive\")"
      ],
      "metadata": {
        "id": "ceWHQ2iYAitP"
      },
      "execution_count": null,
      "outputs": []
    },
    {
      "cell_type": "markdown",
      "source": [
        "## Libraries "
      ],
      "metadata": {
        "id": "bycVJjK-AYMr"
      }
    },
    {
      "cell_type": "code",
      "execution_count": null,
      "metadata": {
        "id": "zccbjnTc-5QN"
      },
      "outputs": [],
      "source": [
        "import os\n",
        "import numpy as np\n",
        "import matplotlib.pyplot as plt\n"
      ]
    },
    {
      "cell_type": "markdown",
      "source": [
        "## Load Data"
      ],
      "metadata": {
        "id": "3hGOnsF4AOEF"
      }
    },
    {
      "cell_type": "code",
      "source": [
        "data = np.loadtxt(\"/content/Mydrive/MyDrive/Machine Learning Data/ex1data1.txt\",delimiter = \",\")\n",
        "\n",
        "X = data[:,0]\n",
        "y = data[:,1]\n",
        "\n",
        "m = y.size"
      ],
      "metadata": {
        "id": "x98RZ8GLAGIw"
      },
      "execution_count": null,
      "outputs": []
    },
    {
      "cell_type": "code",
      "source": [
        "print(X,y,m)"
      ],
      "metadata": {
        "id": "rMdPZzAqBExa"
      },
      "execution_count": null,
      "outputs": []
    },
    {
      "cell_type": "markdown",
      "source": [
        "## Plot Data"
      ],
      "metadata": {
        "id": "QiEQiBw7XUee"
      }
    },
    {
      "cell_type": "code",
      "source": [
        "def plot_data(X,y):\n",
        "  fig = plt.figure()\n",
        "  plt.plot(X, y, 'ro', ms=10, mec='k')\n",
        "  plt.ylabel('Profit in $10,000')\n",
        "  plt.xlabel('Population of City in 10,000s')\n",
        "  plt.show()\n",
        "plot_data(X,y)"
      ],
      "metadata": {
        "id": "0zT98IRQBGK8"
      },
      "execution_count": null,
      "outputs": []
    },
    {
      "cell_type": "code",
      "source": [
        "X = np.stack([np.ones(m),X],axis = 1)\n",
        "# print(X)"
      ],
      "metadata": {
        "id": "Edpi4b-gBegM"
      },
      "execution_count": null,
      "outputs": []
    },
    {
      "cell_type": "markdown",
      "source": [
        "## Compute Cost"
      ],
      "metadata": {
        "id": "m1z1fbaRXXBn"
      }
    },
    {
      "cell_type": "code",
      "source": [
        "def Compute_Cost(X,y,theta):\n",
        "  m = y.size\n",
        "  J = 0\n",
        "\n",
        "  J = (1/(2*m)) * np.sum((np.dot(X,theta) - y)**2)\n",
        "\n",
        "  return J"
      ],
      "metadata": {
        "id": "kXISwzF4CMdC"
      },
      "execution_count": null,
      "outputs": []
    },
    {
      "cell_type": "code",
      "source": [
        "J = Compute_Cost(X,y,theta = np.array([0.0,0.0]))\n",
        "print('With theta = [0, 0] \\nCost computed = %.2f' % J)\n",
        "print('Expected cost value (approximately) 32.07\\n')"
      ],
      "metadata": {
        "id": "QOBE-PX6D3nl"
      },
      "execution_count": null,
      "outputs": []
    },
    {
      "cell_type": "code",
      "source": [
        "J = Compute_Cost(X,y,theta = np.array([-1,2]))\n",
        "print('With theta = [0, 0] \\nCost computed = %.2f' % J)\n",
        "print('Expected cost value (approximately) 54.24\\n')"
      ],
      "metadata": {
        "id": "-Mh0JoNoD_tJ"
      },
      "execution_count": null,
      "outputs": []
    },
    {
      "cell_type": "markdown",
      "source": [
        "## Gradient Descent"
      ],
      "metadata": {
        "id": "siQHRUt3XZei"
      }
    },
    {
      "cell_type": "code",
      "source": [
        "def gradient_Descent(X,y,theta,num_iteration,alpha):\n",
        "  m = y.shape[0]\n",
        "  theta = theta.copy()\n",
        "  J_history = []\n",
        "\n",
        "  for i in range(int(num_iteration)):\n",
        "    theta = theta - (alpha/m) * (np.dot(X,theta)-y).dot(X)\n",
        "    J_history.append(Compute_Cost(X,y,theta))\n",
        "\n",
        "  return theta,J_history"
      ],
      "metadata": {
        "id": "wRwBHK-tEtdt"
      },
      "execution_count": null,
      "outputs": []
    },
    {
      "cell_type": "code",
      "source": [
        "theta = np.zeros(2)\n",
        "iteration = 1500\n",
        "alpha = 0.01\n",
        "\n",
        "theta , J_history = gradient_Descent(X,y,theta,iteration,alpha)\n",
        "print('Theta found by gradient descent: {:.4f}, {:.4f}'.format(*theta))\n",
        "print('Expected theta values (approximately): [-3.6303, 1.1664]')"
      ],
      "metadata": {
        "id": "CWcDxTOCGmzJ"
      },
      "execution_count": null,
      "outputs": []
    },
    {
      "cell_type": "code",
      "source": [
        "plot_data(X[:,1],y)\n",
        "plt.plot(X[:,1],np.dot(X,theta),'-')\n",
        "plt.legend(['Training data', 'Linear regression']);"
      ],
      "metadata": {
        "id": "-DlJCZ55G9Ot"
      },
      "execution_count": null,
      "outputs": []
    },
    {
      "cell_type": "markdown",
      "source": [
        "## Linear Regression for multivarable"
      ],
      "metadata": {
        "id": "c5jTghzALM6w"
      }
    },
    {
      "cell_type": "code",
      "source": [
        "Data = np.loadtxt(\"/content/Mydrive/MyDrive/Machine Learning Data/ex1data2.txt\",delimiter = ',')\n",
        "\n",
        "X = Data[:,:2]\n",
        "y = Data[:,2]\n",
        "\n",
        "print(X,y,m)"
      ],
      "metadata": {
        "id": "w4nnjwg2NlDV"
      },
      "execution_count": null,
      "outputs": []
    },
    {
      "cell_type": "markdown",
      "source": [
        "## Feature Normalization"
      ],
      "metadata": {
        "id": "r0LGl9Q9XdNW"
      }
    },
    {
      "cell_type": "code",
      "source": [
        "def featureNormlization(X):\n",
        "\n",
        "  X_norm = X.copy()\n",
        "  mu = np.zeros(X.shape[0])\n",
        "  sigma = np.zeros(X.shape[0])\n",
        "\n",
        "  mu = np.mean(X,axis = 0)\n",
        "  sigma = np.std(X,axis = 0)\n",
        "  X_norm = (X-mu)/sigma\n",
        "\n",
        "  return X_norm,mu,sigma"
      ],
      "metadata": {
        "id": "NZJSeR0vN56C"
      },
      "execution_count": null,
      "outputs": []
    },
    {
      "cell_type": "code",
      "source": [
        "X_norm, mu, sigma = featureNormlization(X)\n",
        "\n",
        "print('Computed mean:', mu)\n",
        "print('Computed standard deviation:', sigma)"
      ],
      "metadata": {
        "id": "xwThBEcDPYy0"
      },
      "execution_count": null,
      "outputs": []
    },
    {
      "cell_type": "code",
      "source": [
        "X = np.concatenate([np.ones((m,1)) ,X_norm],axis = 1)"
      ],
      "metadata": {
        "id": "Oz7GcBUuPctL"
      },
      "execution_count": null,
      "outputs": []
    },
    {
      "cell_type": "markdown",
      "source": [
        "## Compute Multiple variable Cost"
      ],
      "metadata": {
        "id": "BrgK32fBXgaZ"
      }
    },
    {
      "cell_type": "code",
      "source": [
        "def Compute_Cost_Multi(X,y,theta):\n",
        "  theta = theta.copy()\n",
        "  m = y.shape[0]\n",
        "  J = 0 \n",
        "  J = (1/(2*m)) * np.sum((np.dot(X,theta)-y)**2)\n",
        "  return J"
      ],
      "metadata": {
        "id": "5_w_WHrJW3oE"
      },
      "execution_count": null,
      "outputs": []
    },
    {
      "cell_type": "markdown",
      "source": [
        "## Compute Multiple variable Gradient Descent"
      ],
      "metadata": {
        "id": "G5DbFWVMXkb9"
      }
    },
    {
      "cell_type": "code",
      "source": [
        "def Compute_gradient_multi(X,y,theta,alpha,num_iters):\n",
        "  m = y.shape[0]\n",
        "  \n",
        "  theta = theta.copy()\n",
        "  J_history = []\n",
        "\n",
        "  for i in range(int(num_iters)):\n",
        "\n",
        "    theta = theta - (alpha/m) * (np.dot(X,theta)-y).dot(X)\n",
        "    J_history.append(Compute_Cost_Multi(X,y,theta))\n",
        "  \n",
        "  return theta, J_history\n"
      ],
      "metadata": {
        "id": "b0KjDJxLXo5e"
      },
      "execution_count": null,
      "outputs": []
    },
    {
      "cell_type": "code",
      "source": [
        "alpha = 0.1\n",
        "num_iters = int(400)\n",
        "\n",
        "# init theta and run gradient descent\n",
        "theta = np.zeros(3)\n",
        "theta, J_history = Compute_gradient_multi(X, y, theta, alpha, num_iters)\n",
        "\n",
        "# print(J_history)\n",
        "# Plot the convergence graph\n",
        "plt.plot(np.arange(len(J_history)), J_history, lw=2)\n",
        "plt.xlabel('Number of iterations')\n",
        "plt.ylabel('Cost J')\n",
        "\n",
        "# Display the gradient descent's result\n",
        "print('theta computed from gradient descent: {:s}'.format(str(theta)))\n",
        "\n",
        "# Estimate the price of a 1650 sq-ft, 3 br house\n",
        "# ======================= YOUR CODE HERE ===========================\n",
        "# Recall that the first column of X is all-ones. \n",
        "# Thus, it does not need to be normalized.\n",
        "\n",
        "X_array = [1, 1650, 3]\n",
        "X_array[1:3] = (X_array[1:3] - mu) / sigma\n",
        "price = np.dot(X_array, theta)   # You should change this\n",
        "\n",
        "# ===================================================================\n",
        "\n",
        "print('Predicted price of a 1650 sq-ft, 3 br house (using gradient descent): ${:.0f}'.format(price))\n"
      ],
      "metadata": {
        "id": "pJVMTaD6P3_H"
      },
      "execution_count": null,
      "outputs": []
    },
    {
      "cell_type": "code",
      "source": [
        ""
      ],
      "metadata": {
        "id": "hnEEuJAsZPnj"
      },
      "execution_count": null,
      "outputs": []
    }
  ]
}