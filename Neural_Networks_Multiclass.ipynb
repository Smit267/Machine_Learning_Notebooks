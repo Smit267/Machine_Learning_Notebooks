{
  "nbformat": 4,
  "nbformat_minor": 0,
  "metadata": {
    "colab": {
      "name": "Neural_Networks .ipynb",
      "provenance": []
    },
    "kernelspec": {
      "name": "python3",
      "display_name": "Python 3"
    },
    "language_info": {
      "name": "python"
    }
  },
  "cells": [
    {
      "cell_type": "markdown",
      "source": [
        "# Neural Network"
      ],
      "metadata": {
        "id": "QZdSuZ763zGq"
      }
    },
    {
      "cell_type": "code",
      "execution_count": null,
      "metadata": {
        "id": "IUD-EpkO1oz_"
      },
      "outputs": [],
      "source": [
        "import os\n",
        "\n",
        "import numpy as np\n",
        "\n",
        "from matplotlib import pyplot\n",
        "\n",
        "from scipy import optimize\n",
        "\n",
        "from scipy.io import loadmat"
      ]
    },
    {
      "cell_type": "code",
      "source": [
        "from google.colab import drive\n",
        "drive.mount(\"/content/MyDrive\")"
      ],
      "metadata": {
        "id": "mIo-a3jP2x1Y"
      },
      "execution_count": null,
      "outputs": []
    },
    {
      "cell_type": "markdown",
      "source": [
        "## Data"
      ],
      "metadata": {
        "id": "zsgzTJmz34Ql"
      }
    },
    {
      "cell_type": "code",
      "source": [
        "input_layer_size = 400\n",
        "\n",
        "num_labels = 10\n",
        "\n",
        "data = loadmat(\"/content/MyDrive/MyDrive/Machine Learning Data/EX_3/ex3data1.mat\")\n",
        "\n",
        "X,y = data[\"X\"], data[\"y\"].ravel()\n",
        "\n",
        "y[y==10] = 0\n",
        "\n",
        "m = y.size"
      ],
      "metadata": {
        "id": "I-kVAwHm12eS"
      },
      "execution_count": null,
      "outputs": []
    },
    {
      "cell_type": "code",
      "source": [
        "print(X.shape)\n",
        "print(m)"
      ],
      "metadata": {
        "id": "gshZNNlO3iRV"
      },
      "execution_count": null,
      "outputs": []
    },
    {
      "cell_type": "markdown",
      "source": [
        "## Visualize Data"
      ],
      "metadata": {
        "id": "T5kEG8DT36X9"
      }
    },
    {
      "cell_type": "code",
      "source": [
        "def displayData(X, example_width=None, figsize=(10, 10)):\n",
        "\n",
        "    if X.ndim == 2:\n",
        "        m, n = X.shape\n",
        "    elif X.ndim == 1:\n",
        "        n = X.size\n",
        "        m = 1\n",
        "        X = X[None]  \n",
        "    else:\n",
        "        raise IndexError('Input X should be 1 or 2 dimensional.')\n",
        "\n",
        "    example_width = example_width or int(np.round(np.sqrt(n)))\n",
        "    example_height = n / example_width\n",
        "\n",
        "    display_rows = int(np.floor(np.sqrt(m)))\n",
        "    display_cols = int(np.ceil(m / display_rows))\n",
        "\n",
        "    fig, ax_array = pyplot.subplots(display_rows, display_cols, figsize=figsize)\n",
        "    fig.subplots_adjust(wspace=0.025, hspace=0.025)\n",
        "\n",
        "    ax_array = [ax_array] if m == 1 else ax_array.ravel()\n",
        "\n",
        "    for i, ax in enumerate(ax_array):\n",
        "        ax.imshow(X[i].reshape(example_width, example_width, order='F'),\n",
        "                  cmap='Greys', extent=[0, 1, 0, 1])\n",
        "        ax.axis('off')"
      ],
      "metadata": {
        "id": "yFtSfm9v3kWD"
      },
      "execution_count": null,
      "outputs": []
    },
    {
      "cell_type": "code",
      "source": [
        "rand_indices = np.random.choice(m, 100, replace=False)\n",
        "sel = X[rand_indices, :]\n",
        "\n",
        "displayData(sel)"
      ],
      "metadata": {
        "id": "2DkB5DrJ4G2W"
      },
      "execution_count": null,
      "outputs": []
    },
    {
      "cell_type": "code",
      "source": [
        "# test values for the parameters theta\n",
        "theta_t = np.array([-2, -1, 1, 2], dtype=float)\n",
        "\n",
        "# test values for the inputs\n",
        "X_t = np.concatenate([np.ones((5, 1)), np.arange(1, 16).reshape(5, 3, order='F')/10.0], axis=1)\n",
        "\n",
        "# test values for the labels\n",
        "y_t = np.array([1, 0, 1, 0, 1])\n",
        "\n",
        "# test value for the regularization parameter\n",
        "lambda_t = 3"
      ],
      "metadata": {
        "id": "AK4DdD644LW6"
      },
      "execution_count": null,
      "outputs": []
    },
    {
      "cell_type": "markdown",
      "source": [
        "## Sigmoid"
      ],
      "metadata": {
        "id": "OfelDTS_3-C9"
      }
    },
    {
      "cell_type": "code",
      "source": [
        "def sigmoid(z):\n",
        "  z = np.array(z)\n",
        "  g = np.zeros(z.shape)\n",
        "\n",
        "  g = 1/(1 + np.exp(-z))\n",
        "\n",
        "  return g"
      ],
      "metadata": {
        "id": "7qgOX8t-mUCh"
      },
      "execution_count": null,
      "outputs": []
    },
    {
      "cell_type": "markdown",
      "source": [
        "## Cost_Function "
      ],
      "metadata": {
        "id": "4-QBs0j-3_pC"
      }
    },
    {
      "cell_type": "code",
      "source": [
        "def cost_func(theta,X,y,lambda_):\n",
        "  \n",
        "  m = y.size\n",
        "\n",
        "  if y.dtype == bool:\n",
        "\n",
        "    y = y.astype(int)\n",
        "\n",
        "  J = 0\n",
        "  grad = np.zeros(theta.shape)\n",
        "\n",
        "  h = sigmoid(np.dot(X,theta))\n",
        "\n",
        "  temp = theta\n",
        "  temp[0] = 0\n",
        "  J = (1/(m)) * np.sum(-y.dot(np.log(h)) - (1-y).dot(np.log(1-h)))+ (lambda_/(2*m))* np.sum(np.square(temp))\n",
        "\n",
        "  grad = (1/m) * (h-y).dot(X)\n",
        "\n",
        "  grad = grad + (lambda_/m) * (temp)\n",
        " \n",
        "  return J, grad\n"
      ],
      "metadata": {
        "id": "BaD07xabkyMq"
      },
      "execution_count": null,
      "outputs": []
    },
    {
      "cell_type": "code",
      "source": [
        "J, grad = cost_func(theta_t, X_t, y_t, lambda_t)\n",
        "\n",
        "print('Cost         : {:.6f}'.format(J))\n",
        "print('Expected cost: 2.534819')\n",
        "print('-----------------------')\n",
        "print('Gradients:')\n",
        "print(' [{:.6f}, {:.6f}, {:.6f}, {:.6f}]'.format(*grad))\n",
        "print('Expected gradients:')\n",
        "print(' [0.146561, -0.548558, 0.724722, 1.398003]');"
      ],
      "metadata": {
        "id": "NoMNv-npl8i9"
      },
      "execution_count": null,
      "outputs": []
    },
    {
      "cell_type": "markdown",
      "source": [
        "## OneVsAll theta"
      ],
      "metadata": {
        "id": "p5Tlteow4DGM"
      }
    },
    {
      "cell_type": "code",
      "source": [
        "def oneVsAll(X,y,num_labels,lambda_):\n",
        "  m,n = X.shape\n",
        "\n",
        "  all_theta = np.zeros((num_labels,n+1))\n",
        "\n",
        "  X = np.concatenate([np.ones((m,1)),X],axis = 1)\n",
        "\n",
        "  for c in np.arange(num_labels):\n",
        "\n",
        "    initial_theta = np.zeros(n+1)\n",
        "\n",
        "    options = {\"maxiter\": 50}\n",
        "\n",
        "    res = optimize.minimize(cost_func,\n",
        "                          initial_theta,\n",
        "                          (X, y==c ,lambda_),\n",
        "                          jac=True,\n",
        "                          method='CG',\n",
        "                          options=options)\n",
        "\n",
        "    all_theta[c] = res.x\n",
        "\n",
        "  return all_theta"
      ],
      "metadata": {
        "id": "_9MTEoVwnfBg"
      },
      "execution_count": null,
      "outputs": []
    },
    {
      "cell_type": "code",
      "source": [
        "lambda_ = 0.1"
      ],
      "metadata": {
        "id": "t6ixCnDmzonl"
      },
      "execution_count": null,
      "outputs": []
    },
    {
      "cell_type": "code",
      "source": [
        "all_theta = oneVsAll(X, y, num_labels, lambda_)\n",
        "print(all_theta.shape)"
      ],
      "metadata": {
        "id": "JNTjlfUuzpQ4"
      },
      "execution_count": null,
      "outputs": []
    },
    {
      "cell_type": "markdown",
      "source": [
        "## PredictOneVsAll "
      ],
      "metadata": {
        "id": "vDBGEeEE4Jcf"
      }
    },
    {
      "cell_type": "code",
      "source": [
        "def predictOneVsAll(all_theta, X):\n",
        "  m = X.shape[0]\n",
        "\n",
        "  num_labels = all_theta.shape[0]\n",
        "\n",
        "  p = np.zeros(m)\n",
        "\n",
        "  X = np.concatenate([np.ones((m,1)),X],axis = 1)\n",
        "\n",
        "  p = np.argmax(sigmoid(X.dot(all_theta.T)), axis = 1)\n",
        "\n",
        "  return p"
      ],
      "metadata": {
        "id": "53S9PQfjzsfD"
      },
      "execution_count": null,
      "outputs": []
    },
    {
      "cell_type": "code",
      "source": [
        "pred = predictOneVsAll(all_theta, X)\n",
        "print('Training Set Accuracy: {:.2f}%'.format(np.mean(pred == y) * 100))"
      ],
      "metadata": {
        "id": "zvE4EAsR2HOQ"
      },
      "execution_count": null,
      "outputs": []
    },
    {
      "cell_type": "markdown",
      "source": [
        "# Neural Networks "
      ],
      "metadata": {
        "id": "_86rimUA2V4d"
      }
    },
    {
      "cell_type": "code",
      "source": [
        "data = loadmat(\"/content/MyDrive/MyDrive/Machine Learning Data/EX_3/ex3data1.mat\")\n",
        "\n",
        "X, y = data[\"X\"], data[\"y\"].ravel()\n",
        "\n",
        "y[y==10] = 0\n",
        "\n",
        "m = y.size\n",
        "\n",
        "indices = np.random.permutation(m)\n",
        "\n",
        "rand_indices = np.random.choice(m, 100, replace = False)\n",
        "\n",
        "sel = X[rand_indices,:]\n",
        "\n",
        "displayData(sel)"
      ],
      "metadata": {
        "id": "PiFR2_tt4QCv"
      },
      "execution_count": null,
      "outputs": []
    },
    {
      "cell_type": "code",
      "source": [
        "initial_layer_size = 400\n",
        "hidden_layer_size = 25\n",
        "num_labels = 10\n",
        "\n",
        "weights = loadmat(\"/content/MyDrive/MyDrive/Machine Learning Data/EX_3/ex3weights.mat\")\n",
        "\n",
        "Theta1 , Theta2 = weights[\"Theta1\"] , weights[\"Theta2\"]\n",
        "\n",
        "Theta2 = np.roll(Theta2, 1, axis = 0)\n"
      ],
      "metadata": {
        "id": "T7WXJfMW48iN"
      },
      "execution_count": null,
      "outputs": []
    },
    {
      "cell_type": "code",
      "source": [
        "print(Theta1.shape,Theta2.shape)"
      ],
      "metadata": {
        "id": "yMVfRWo75ho6"
      },
      "execution_count": null,
      "outputs": []
    },
    {
      "cell_type": "code",
      "source": [
        "def predict(Theta1, Theta2, X):\n",
        "  if X.ndim == 1:\n",
        "    X = X[None]\n",
        "\n",
        "  m = X.shape[0]\n",
        "  num_labels = Theta2.shape[0]\n",
        "\n",
        "  p = np.zeros(X.shape[0])\n",
        "\n",
        "  X = np.concatenate([np.ones((m,1)),X],axis = 1)\n",
        "\n",
        "  a2 = sigmoid(X.dot(Theta1.T))\n",
        "\n",
        "  a2 = np.concatenate([np.ones((a2.shape[0],1)),a2],axis = 1)\n",
        "\n",
        "  p = np.argmax(sigmoid(a2.dot(Theta2.T)),axis = 1)\n",
        "\n",
        "  return p "
      ],
      "metadata": {
        "id": "6o7ii0jv5l7g"
      },
      "execution_count": null,
      "outputs": []
    },
    {
      "cell_type": "code",
      "source": [
        "pred = predict(Theta1, Theta2, X)\n",
        "print('Training Set Accuracy: {:.1f}%'.format(np.mean(pred == y) * 100))"
      ],
      "metadata": {
        "id": "9hDHIQpW7CeT"
      },
      "execution_count": null,
      "outputs": []
    },
    {
      "cell_type": "code",
      "source": [
        "if indices.size > 0:\n",
        "    i, indices = indices[0], indices[1:]\n",
        "    displayData(X[i, :], figsize=(4, 4))\n",
        "    pred = predict(Theta1, Theta2, X[i, :])\n",
        "    print('Neural Network Prediction: {}'.format(*pred))\n",
        "else:\n",
        "    print('No more images to display!')"
      ],
      "metadata": {
        "id": "wxlWaUxw7E3q"
      },
      "execution_count": null,
      "outputs": []
    },
    {
      "cell_type": "code",
      "source": [
        ""
      ],
      "metadata": {
        "id": "dNMSMzrw7I9n"
      },
      "execution_count": null,
      "outputs": []
    }
  ]
}